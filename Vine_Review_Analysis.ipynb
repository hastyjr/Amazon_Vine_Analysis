{
  "nbformat": 4,
  "nbformat_minor": 0,
  "metadata": {
    "colab": {
      "provenance": [],
      "collapsed_sections": []
    },
    "kernelspec": {
      "name": "python3",
      "display_name": "Python 3"
    },
    "language_info": {
      "name": "python"
    }
  },
  "cells": [
    {
      "cell_type": "code",
      "execution_count": 2,
      "metadata": {
        "colab": {
          "base_uri": "https://localhost:8080/"
        },
        "id": "ig3ffIwqj5f3",
        "outputId": "80790ef0-4cbc-4924-b225-74bf113a526d"
      },
      "outputs": [
        {
          "output_type": "stream",
          "name": "stdout",
          "text": [
            "\r0% [Working]\r            \rGet:1 https://cloud.r-project.org/bin/linux/ubuntu bionic-cran40/ InRelease [3,626 B]\n",
            "\r0% [Connecting to archive.ubuntu.com] [Connecting to security.ubuntu.com] [1 In\r0% [Connecting to archive.ubuntu.com] [Connecting to security.ubuntu.com] [Wait\r0% [1 InRelease gpgv 3,626 B] [Connecting to archive.ubuntu.com] [Connecting to\r                                                                               \rIgn:2 https://developer.download.nvidia.com/compute/machine-learning/repos/ubuntu1804/x86_64  InRelease\n",
            "\r0% [1 InRelease gpgv 3,626 B] [Connecting to archive.ubuntu.com] [Connecting to\r                                                                               \rHit:3 https://developer.download.nvidia.com/compute/cuda/repos/ubuntu1804/x86_64  InRelease\n",
            "\r0% [1 InRelease gpgv 3,626 B] [Connecting to archive.ubuntu.com (185.125.190.39\r                                                                               \rHit:4 https://developer.download.nvidia.com/compute/machine-learning/repos/ubuntu1804/x86_64  Release\n",
            "\r0% [1 InRelease gpgv 3,626 B] [Connecting to archive.ubuntu.com (185.125.190.39\r                                                                               \rGet:5 http://security.ubuntu.com/ubuntu bionic-security InRelease [88.7 kB]\n",
            "Get:6 http://ppa.launchpad.net/c2d4u.team/c2d4u4.0+/ubuntu bionic InRelease [15.9 kB]\n",
            "Hit:7 http://archive.ubuntu.com/ubuntu bionic InRelease\n",
            "Get:8 http://archive.ubuntu.com/ubuntu bionic-updates InRelease [88.7 kB]\n",
            "Hit:9 http://ppa.launchpad.net/cran/libgit2/ubuntu bionic InRelease\n",
            "Get:11 http://ppa.launchpad.net/deadsnakes/ppa/ubuntu bionic InRelease [15.9 kB]\n",
            "Get:12 http://archive.ubuntu.com/ubuntu bionic-backports InRelease [83.3 kB]\n",
            "Hit:13 http://ppa.launchpad.net/graphics-drivers/ppa/ubuntu bionic InRelease\n",
            "Get:14 http://ppa.launchpad.net/c2d4u.team/c2d4u4.0+/ubuntu bionic/main Sources [2,164 kB]\n",
            "Get:15 http://security.ubuntu.com/ubuntu bionic-security/main amd64 Packages [3,018 kB]\n",
            "Get:16 http://security.ubuntu.com/ubuntu bionic-security/restricted amd64 Packages [1,187 kB]\n",
            "Get:17 http://security.ubuntu.com/ubuntu bionic-security/universe amd64 Packages [1,551 kB]\n",
            "Get:18 http://archive.ubuntu.com/ubuntu bionic-updates/main amd64 Packages [3,452 kB]\n",
            "Get:19 http://ppa.launchpad.net/c2d4u.team/c2d4u4.0+/ubuntu bionic/main amd64 Packages [1,109 kB]\n",
            "Get:20 http://archive.ubuntu.com/ubuntu bionic-updates/universe amd64 Packages [2,329 kB]\n",
            "Get:21 http://archive.ubuntu.com/ubuntu bionic-updates/restricted amd64 Packages [1,230 kB]\n",
            "Get:22 http://ppa.launchpad.net/deadsnakes/ppa/ubuntu bionic/main amd64 Packages [45.3 kB]\n",
            "Fetched 16.4 MB in 4s (3,884 kB/s)\n",
            "Reading package lists... Done\n"
          ]
        }
      ],
      "source": [
        "import os\n",
        "# Find the latest version of spark 3.0  from http://www.apache.org/dist/spark/ and enter as the spark version\n",
        "# For example:\n",
        "# spark_version = 'spark-3.3.0'\n",
        "spark_version = 'spark-3.3.0'\n",
        "os.environ['SPARK_VERSION']=spark_version\n",
        "\n",
        "# Install Spark and Java\n",
        "!apt-get update\n",
        "!apt-get install openjdk-11-jdk-headless -qq > /dev/null\n",
        "!wget -q http://www.apache.org/dist/spark/$SPARK_VERSION/$SPARK_VERSION-bin-hadoop3.tgz\n",
        "!tar xf $SPARK_VERSION-bin-hadoop3.tgz\n",
        "!pip install -q findspark\n",
        "\n",
        "# Set Environment Variables\n",
        "import os\n",
        "os.environ[\"JAVA_HOME\"] = \"/usr/lib/jvm/java-11-openjdk-amd64\"\n",
        "os.environ[\"SPARK_HOME\"] = f\"/content/{spark_version}-bin-hadoop3\"\n",
        "\n",
        "# Start a SparkSession\n",
        "import findspark\n",
        "findspark.init()"
      ]
    },
    {
      "cell_type": "code",
      "source": [
        "# Download the Postgres driver that will allow Spark to interact with Postgres.\n",
        "!wget https://jdbc.postgresql.org/download/postgresql-42.2.16.jar"
      ],
      "metadata": {
        "colab": {
          "base_uri": "https://localhost:8080/"
        },
        "id": "lyRFXasDkIVG",
        "outputId": "2c5c4bc7-cde4-41fc-8f76-b4b820f07a13"
      },
      "execution_count": 3,
      "outputs": [
        {
          "output_type": "stream",
          "name": "stdout",
          "text": [
            "--2022-10-14 03:57:37--  https://jdbc.postgresql.org/download/postgresql-42.2.16.jar\n",
            "Resolving jdbc.postgresql.org (jdbc.postgresql.org)... 72.32.157.228, 2001:4800:3e1:1::228\n",
            "Connecting to jdbc.postgresql.org (jdbc.postgresql.org)|72.32.157.228|:443... connected.\n",
            "HTTP request sent, awaiting response... 200 OK\n",
            "Length: 1002883 (979K) [application/java-archive]\n",
            "Saving to: ‘postgresql-42.2.16.jar’\n",
            "\n",
            "postgresql-42.2.16. 100%[===================>] 979.38K  4.96MB/s    in 0.2s    \n",
            "\n",
            "2022-10-14 03:57:38 (4.96 MB/s) - ‘postgresql-42.2.16.jar’ saved [1002883/1002883]\n",
            "\n"
          ]
        }
      ]
    },
    {
      "cell_type": "code",
      "source": [
        "from pyspark.sql import SparkSession\n",
        "spark = SparkSession.builder.appName(\"M16-Amazon-Challenge\").config(\"spark.driver.extraClassPath\",\"/content/postgresql-42.2.16.jar\").getOrCreate()"
      ],
      "metadata": {
        "id": "jcIONrMPkSOp"
      },
      "execution_count": 4,
      "outputs": []
    },
    {
      "cell_type": "code",
      "source": [
        "from pyspark import SparkFiles\n",
        "url = \"https://s3.amazonaws.com/amazon-reviews-pds/tsv/amazon_reviews_us_Health_Personal_Care_v1_00.tsv.gz\"\n",
        "spark.sparkContext.addFile(url)\n",
        "df = spark.read.option(\"encoding\", \"UTF-8\").csv(SparkFiles.get(\"\"), sep=\"\\t\", header=True, inferSchema=True)\n",
        "df.show(50)"
      ],
      "metadata": {
        "colab": {
          "base_uri": "https://localhost:8080/"
        },
        "id": "sRFHyhzgkVju",
        "outputId": "fe580d49-7249-48c5-9efd-b633f0120448"
      },
      "execution_count": 17,
      "outputs": [
        {
          "output_type": "stream",
          "name": "stdout",
          "text": [
            "+-----------+-----------+--------------+----------+--------------+--------------------+--------------------+-----------+-------------+-----------+----+-----------------+--------------------+--------------------+-------------------+\n",
            "|marketplace|customer_id|     review_id|product_id|product_parent|       product_title|    product_category|star_rating|helpful_votes|total_votes|vine|verified_purchase|     review_headline|         review_body|        review_date|\n",
            "+-----------+-----------+--------------+----------+--------------+--------------------+--------------------+-----------+-------------+-----------+----+-----------------+--------------------+--------------------+-------------------+\n",
            "|         US|     650634| R3EQSTM9PWRAL|B0091LBZSU|     578484426|Demograss Capsule...|Health & Personal...|          3|            0|          0|   N|                Y|         Three Stars|Only came with 30...|2015-08-31 00:00:00|\n",
            "|         US|   19827510| RBWPRK17XKIXD|B00PWW3LQ6|     456433146|Viva Labs #1 Prem...|Health & Personal...|          5|            0|          0|   N|                Y|A good portable s...|Really yummy and ...|2015-08-31 00:00:00|\n",
            "|         US|    1520474| RRSLOAF273XFC|B00DKEWA92|     460764511|     Whip-it Cleaner|Health & Personal...|          5|            1|          2|   N|                Y|       You need this|You cannot go wro...|2015-08-31 00:00:00|\n",
            "|         US|   23905905|R3S8W9Q6SWIT8O|B0015R3A7M|     135102038|Optimum Nutrition...|Health & Personal...|          4|            0|          0|   N|                Y|this is a good vi...|This is a good da...|2015-08-31 00:00:00|\n",
            "|         US|   28215779|R3QQ6NSLRVBFJC|B006B8U8BG|     200666829|Wet-Stop3 Bedwett...|Health & Personal...|          4|            0|          0|   N|                Y|progress is defin...|We have been usin...|2015-08-31 00:00:00|\n",
            "|         US|   23260912|R2XYDBMHUVJCSX|B00PFZFD8Y|     344168617|NatraCure Plantar...|Health & Personal...|          2|            0|          1|   N|                Y|           Two Stars|I wear it a few t...|2015-08-31 00:00:00|\n",
            "|         US|    7965616|R1L94ESVC657A9|B0034792JG|     291831570|Glade Sense & Spr...|Health & Personal...|          5|            0|          0|   N|                Y|          Five Stars|Love this product...|2015-08-31 00:00:00|\n",
            "|         US|    3443178|R3DI4B8LDWFQ3K|B000052XIA|     493678550|Vagisil Anti-Itch...|Health & Personal...|          1|            3|          4|   N|                Y|It still is itchi...|It still is itchi...|2015-08-31 00:00:00|\n",
            "|         US|   20838781|R1G7VV4HCXUQQL|B004GCUK8A|       3902598|Glade Automatic S...|Health & Personal...|          5|            0|          0|   N|                Y|          Five Stars|               Good!|2015-08-31 00:00:00|\n",
            "|         US|   15267517|R3TTNYN1TAMUSU|B00K7W1QAO|     633971374|Kirkland Signatur...|Health & Personal...|          5|            0|          0|   N|                Y|      Will buy again|These bags are ma...|2015-08-31 00:00:00|\n",
            "|         US|   30105089|R3AMX2D9HMWV6Z|B0034KYA36|     854858899|Zyrtec Prescripti...|Health & Personal...|          5|            0|          0|   N|                Y|         Good price!|Delivered product...|2015-08-31 00:00:00|\n",
            "|         US|    1622207|R3PO3K321GY8HI|B00C7UZTT8|     264608272|Pure Garcinia Cam...|Health & Personal...|          1|            0|          0|   N|                Y|       Doesn't work.|So far I've felt ...|2015-08-31 00:00:00|\n",
            "|         US|   29856075| RVQ0UNYX6IEVK|B005F9XFN0|     638667060|Now  Better Stevi...|Health & Personal...|          1|            0|          1|   N|                Y|           not quite|Not nearly as goo...|2015-08-31 00:00:00|\n",
            "|         US|   52319463|R25E9NIGO2XQ3D|B00Q8YSPTU|     130354267|Now Foods Stevia ...|Health & Personal...|          5|            0|          0|   N|                Y|Reasonably priced...|Reasonably priced...|2015-08-31 00:00:00|\n",
            "|         US|   16857013|R3GIEXIIIR2G9Y|B00N34HBVG|     700530604|Compression Thigh...|Health & Personal...|          1|            0|          0|   N|                Y|DO NOT BUY!!!! Ve...|They are sooooooo...|2015-08-31 00:00:00|\n",
            "|         US|   12269680|R264BH3U417NXF|B002UN2UKS|     731161248|Brownmed SEAL-TIG...|Health & Personal...|          5|            0|          0|   N|                Y|Worked Great!! Ve...|Worked Great!!  V...|2015-08-31 00:00:00|\n",
            "|         US|   29116955|R2C6S0XJIMP0Z2|B003265KYK|     719831457|Botanic Choice Gl...|Health & Personal...|          5|            0|          0|   N|                Y|          Five Stars|Great price, on t...|2015-08-31 00:00:00|\n",
            "|         US|   14533949|R2LRJYGC2YYR2F|B00939J5T6|     377517622|Shibari SHIB-WHT ...|Health & Personal...|          2|            0|          0|   N|                Y|Cant handle long ...|Broke down after ...|2015-08-31 00:00:00|\n",
            "|         US|   11274313|R3SVW9ZP1CZPW7|B00LJOQKRI|     376583016|Eyekepper 5-pack ...|Health & Personal...|          1|            0|          1|   N|                Y|            One Star|I think the presc...|2015-08-31 00:00:00|\n",
            "|         US|   14861684|R1GLA6RQUF4Q79|B002TG3QPO|     813956658|Isopure Zero Carb...|Health & Personal...|          4|            0|          0|   N|                Y|          Four Stars|            Loved it|2015-08-31 00:00:00|\n",
            "|         US|   13899017| R1UXYY06OAAUQ|B000293XLM|     475333749|Nature's Way Vale...|Health & Personal...|          3|            0|          0|   N|                Y|            Valerian|Of course they ha...|2015-08-31 00:00:00|\n",
            "|         US|   22649477|R37R181DDM2UUL|B002XULCB6|     548350995|Pure Protein 35g ...|Health & Personal...|          4|            2|          2|   N|                Y|Lots of protein a...|Pure Protein has ...|2015-08-31 00:00:00|\n",
            "|         US|    3032855|R27SGADEMD656F|B008ZAH0GY|     951720176|Tampax Pearl Acti...|Health & Personal...|          5|            0|          1|   N|                Y|          Five Stars|                  Ok|2015-08-31 00:00:00|\n",
            "|         US|   50247241|R2H4PFXM303UPQ|B0013OSN6A|     568590155|Now Foods, Indole...|Health & Personal...|          4|            3|          3|   N|                Y|          Four Stars|Another great pro...|2015-08-31 00:00:00|\n",
            "|         US|   23147228| RZ9HASH6YNE4J|B00LLKJIQ0|     871825395|Pure Sun Naturals...|Health & Personal...|          5|            1|          1|   N|                Y|          Five Stars|  Amazing as always.|2015-08-31 00:00:00|\n",
            "|         US|   34049312| RCE8WNGDG2QHE|B007H91S5S|     611669941|Contour Products ...|Health & Personal...|          3|            0|          0|   N|                Y|the wedge itself ...|the wedge itself ...|2015-08-31 00:00:00|\n",
            "|         US|   12846792|R2Z3FWLT7V5BDV|B00YFOVMUO|     907201486|Advanced OTC pH A...|Health & Personal...|          5|            0|          0|   N|                N|          Five Stars|  PH Test strips :))|2015-08-31 00:00:00|\n",
            "|         US|   34396419|R1LII928W7JJFN|B00IXPC50W|     387362973|Woolzies Best qua...|Health & Personal...|          5|            0|          0|   N|                Y|a beautiful scent...|OH, a beautiful s...|2015-08-31 00:00:00|\n",
            "|         US|   42121146| RR3HYBU0LOG05|B005DQTUWA|     504121663|Nature Made Krill...|Health & Personal...|          5|            2|          3|   N|                Y|          Five Stars|I enjoy taking th...|2015-08-31 00:00:00|\n",
            "|         US|   35574474|R2604WANPTX0YO|B00N2BW2PK|     366100425|Fitbit Charge HR ...|Health & Personal...|          5|            0|          0|   N|                Y|      perfect, thank|Its, perfect, tha...|2015-08-31 00:00:00|\n",
            "|         US|   47118568| RH7A4CZ5CKC72|B005NQVLEU|      21954167|FunZone Vulcan Lo...|Health & Personal...|          4|            0|          1|   N|                Y|          Four Stars|        Pretty good!|2015-08-31 00:00:00|\n",
            "|         US|    6369984|R2NGB1TRR68FI1|B004FE1HGI|     434179581|Raw Pancreas Glan...|Health & Personal...|          5|            0|          1|   N|                Y|          Five Stars|Raw Pancreas is a...|2015-08-31 00:00:00|\n",
            "|         US|   24814591|R1DW9HGGSGPW1L|B003B3OOO6|     805429373|Nature's Way Aliv...|Health & Personal...|          4|            0|          0|   N|                Y|      Bummer for me.|These were great ...|2015-08-31 00:00:00|\n",
            "|         US|   25402244| RNV4CWGB974GE|B000A0S5LG|      33116926|Neilmed Sinus Rin...|Health & Personal...|          2|            0|          1|   N|                Y|Not the product f...|Waste of money. N...|2015-08-31 00:00:00|\n",
            "|         US|   12152777| R45LXAPWF1BYU|B0051M9DKU|     242872821|Doctor's Best Bes...|Health & Personal...|          5|            9|         10|   N|                Y|This Natto is pow...|This stuff is gre...|2015-08-31 00:00:00|\n",
            "|         US|   34611638|R1NES47DS1OHKM|B001H4FN50|     473834034|Patchouli - Nandi...|Health & Personal...|          5|            0|          0|   N|                Y|          Five Stars|Love this stuff. ...|2015-08-31 00:00:00|\n",
            "|         US|   37972503|R3G123CRMPX774|B00JM94GOQ|     358371229|S&S® Foot alignme...|Health & Personal...|          5|            0|          0|   N|                Y|  Just as described!|Absolutely loved ...|2015-08-31 00:00:00|\n",
            "|         US|   27908167| RMHV44UUQNFKD|B004GHALRK|      40610947|Conceive Plus Per...|Health & Personal...|          5|            2|          3|   N|                Y| It seems to work...|i conceived the v...|2015-08-31 00:00:00|\n",
            "|         US|   12902696|R3HZ55S6TZ36CG|B00TN7E7YQ|     310876485|Coromose Beautifu...|Health & Personal...|          5|            0|          0|   N|                Y|          Five Stars|I bought a second...|2015-08-31 00:00:00|\n",
            "|         US|    3874931| RGH2EH7QM0LOO|B005IV0AI8|     232918810|Hugo Mobility Adj...|Health & Personal...|          5|            0|          0|   N|                Y|     Very good grip.|Great cane.  I ha...|2015-08-31 00:00:00|\n",
            "|         US|   14386248|R1YPKAZAW2AYBS|B003DN1WJY|     196599327|Desitin Diaper Ra...|Health & Personal...|          5|            0|          0|   N|                Y|          Five Stars|Great Product, Gr...|2015-08-31 00:00:00|\n",
            "|         US|   15665107|R2D1QHB72QYC2W|B00PKHIDRA|      64595824|WEISHI Long Handl...|Health & Personal...|          5|            2|          2|   N|                Y|    Old school shave|At 55, I've used ...|2015-08-31 00:00:00|\n",
            "|         US|   35803705|R2TZRCJCU1CH36|B00N2BW638|     366100425|Fitbit Charge HR ...|Health & Personal...|          5|            0|          0|   N|                N|Pleasantly Surprised|I never thought t...|2015-08-31 00:00:00|\n",
            "|         US|   50465378|R2PAXVVB0G1AM6|B006SFJ21O|     492017578|SCALPICIN 2 in 1 ...|Health & Personal...|          5|            0|          0|   N|                Y|          Five Stars|This 2 in 1 Scalp...|2015-08-31 00:00:00|\n",
            "|         US|   26910107| RZNIJWRS0LCQX|B00X9JE7LM|     943174379|Equinox Internati...|Health & Personal...|          4|            0|          0|   N|                Y|  Awesome product!!!|Very awesome prod...|2015-08-31 00:00:00|\n",
            "|         US|   28016918| RLBGTWG2E2JQ1|B0055E2TGE|     124055190|Bazuka Extra Stre...|Health & Personal...|          5|           13|         16|   N|                Y|Completely Gone i...|I cannot believe ...|2015-08-31 00:00:00|\n",
            "|         US|   20403979|R1MKO6NLYVTR7B|B00G2C2OCC|     746589439|Life Extension Co...|Health & Personal...|          5|           12|         12|   N|                Y|even though I wou...|This product does...|2015-08-31 00:00:00|\n",
            "|         US|   19900508|R1VRO8J966Q7KZ|B005DLCJX2|     605466341|Pampers Sensitive...|Health & Personal...|          5|            0|          0|   N|                Y|     Best wipes ever|Best wipes ever, ...|2015-08-31 00:00:00|\n",
            "|         US|    1284090|R3M6DNKH40KE70|B01346LJBA|     632930729|** MEGA ONE DAILY...|Health & Personal...|          5|            2|          3|   N|                N|      Great vitamins|I have started ta...|2015-08-31 00:00:00|\n",
            "|         US|   12193589|R3DCSSB8K3QFA3|B000E13BVA|     361204512|Borin-Halbich 7 D...|Health & Personal...|          5|            0|          0|   N|                Y|    Perfect solution|I have complex re...|2015-08-31 00:00:00|\n",
            "+-----------+-----------+--------------+----------+--------------+--------------------+--------------------+-----------+-------------+-----------+----+-----------------+--------------------+--------------------+-------------------+\n",
            "only showing top 50 rows\n",
            "\n"
          ]
        }
      ]
    },
    {
      "cell_type": "code",
      "source": [
        "## Filter the data and create a new DataFrame or table to retrieve all the rows where the total_votes count \n",
        "# is equal to or greater than 20 to pick reviews that are more likely to be helpful and to avoid having \n",
        "# division by zero errors later on.\n",
        "\n",
        "totalvotes_df = df.filter(\"total_votes>=20\")\n",
        "totalvotes_df.show()"
      ],
      "metadata": {
        "colab": {
          "base_uri": "https://localhost:8080/"
        },
        "id": "bNfyk_4DkfrZ",
        "outputId": "60deb035-fbc7-4862-8eb2-ba0ec8df93d8"
      },
      "execution_count": 22,
      "outputs": [
        {
          "output_type": "stream",
          "name": "stdout",
          "text": [
            "+-----------+-----------+--------------+----------+--------------+--------------------+--------------------+-----------+-------------+-----------+----+-----------------+--------------------+--------------------+-------------------+\n",
            "|marketplace|customer_id|     review_id|product_id|product_parent|       product_title|    product_category|star_rating|helpful_votes|total_votes|vine|verified_purchase|     review_headline|         review_body|        review_date|\n",
            "+-----------+-----------+--------------+----------+--------------+--------------------+--------------------+-----------+-------------+-----------+----+-----------------+--------------------+--------------------+-------------------+\n",
            "|         US|    1717317|R2984F9VD9WDJB|B0013OVVK0|     895291357|Jarrow Formulas N...|Health & Personal...|          1|           37|         46|   N|                Y|... month 2000 mg...|took it upon my d...|2015-08-31 00:00:00|\n",
            "|         US|   37405868|R218TGWCIAZYNY|B0065ZTKWS|     961894951|New Mama Bottom S...|Health & Personal...|          5|          191|        198|   N|                Y|Lives up to the hype|I'm not one to be...|2015-08-31 00:00:00|\n",
            "|         US|   35507683| RGC2TLSBHLPZA|B00196WN54|     850285101|Hyland's Cell Sal...|Health & Personal...|          5|           49|         50|   N|                Y|If I could give t...|If I could give t...|2015-08-31 00:00:00|\n",
            "|         US|   49800932|R2YYVOW2RYGRM8|B00BGO0QEO|     305113156|Fitbit Flex Wirel...|Health & Personal...|          5|           27|         28|   N|                Y|     Great Motivater|Loving it so far....|2015-08-31 00:00:00|\n",
            "|         US|   50079376|R2X4WF89XICSB2|B001FWY1JI|      33329985|Drive Medical Due...|Health & Personal...|          1|           21|         21|   N|                Y|   Dangerous product|Consumer beware, ...|2015-08-31 00:00:00|\n",
            "|         US|   14217432|R1M1KJ4SQE4INF|B013HB7FA6|     476583372|Nano Ionic Silver...|Health & Personal...|          5|           20|         21|   N|                N|Awesome Value for...|My body is consta...|2015-08-31 00:00:00|\n",
            "|         US|   21895548|R1M8EEGH2TVS0Q|B00N1UCF8Q|     271316911|Aggripure Safed M...|Health & Personal...|          1|            6|         29|   N|                Y|                Hmmm|    Seen nothing yet|2015-08-31 00:00:00|\n",
            "|         US|    2644767| RK8MUEWEUGV6V|B0017OFR5Q|     891915007|Swanson Premium B...|Health & Personal...|          4|          105|        113|   N|                N|               Good |Its good consider...|2015-08-31 00:00:00|\n",
            "|         US|   37243032|R3JF2SBRHZITRZ|B00U0A06A4|     847155233|InteVision Extra-...|Health & Personal...|          5|           24|         26|   N|                N|Both are great! A...|I bought my husba...|2015-08-31 00:00:00|\n",
            "|         US|   13080287| RLJN73T8WUYIR|B00YM8JRZU|     140079981|Optimized Liposom...|Health & Personal...|          5|          124|        128|   N|                Y|So impressed I've...|I was skeptical w...|2015-08-31 00:00:00|\n",
            "|         US|   37023547| RYA9ESIATW4EC|B00FB59Z64|     196842829|Swaddlers Sensiti...|Health & Personal...|          1|           23|         27|   N|                N|New Version of th...|We have been usin...|2015-08-31 00:00:00|\n",
            "|         US|   51703958|R15RF9IWXWX3IH|B00R5WAD26|     374923086|Superior Labs – E...|Health & Personal...|          5|           25|         31|   N|                N|I have been takin...|I have been takin...|2015-08-31 00:00:00|\n",
            "|         US|   13573206|R1GNMWLUMCOC6V|B00WDKKJU6|     943596926|Anti Teeth Grindi...|Health & Personal...|          5|           21|         23|   N|                N|I've been super s...|I've been super s...|2015-08-31 00:00:00|\n",
            "|         US|   42782946|R3F5N905ZVOXES|B00KWL6GNW|     272931066|LEGION Whey+ - Be...|Health & Personal...|          1|            3|         35|   N|                N|        Maltodextrin|This is what Mike...|2015-08-31 00:00:00|\n",
            "|         US|   39488966|R2SLKTWAJ7BR9K|B00F4Z6I66|     748300787|Organic Bitter Ap...|Health & Personal...|          5|           33|         36|   N|                Y|I like the taste ...|I like the taste ...|2015-08-31 00:00:00|\n",
            "|         US|   52507419|R1NKKJ720BC2VM|B000Z8ZKW0|     747897692|Now Foods, MSM 10...|Health & Personal...|          5|           25|         28|   N|                Y|Great for making ...|First of all, I a...|2015-08-31 00:00:00|\n",
            "|         US|   11895042|R3ATNR4AESV090|B00185TDW2|     750089279|Nature's Answer A...|Health & Personal...|          4|           38|         40|   N|                Y|       Amazing stuff|I ordered this fo...|2015-08-31 00:00:00|\n",
            "|         US|   36082980|R36XRSNV1M0ADW|B00TG2TRL6|     791688919|CCL Advanced Glut...|Health & Personal...|          5|           82|         95|   N|                Y|           It works!|I did my due dili...|2015-08-31 00:00:00|\n",
            "|         US|    2659185|R203G800OB64XF|B005JAT3TU|     895738024|Garden of Life Vi...|Health & Personal...|          3|           57|         72|   N|                N|    pretty Expensive|These did, howeve...|2015-08-31 00:00:00|\n",
            "|         US|   28780727|R31LBT37BJZE6B|B00QTCQZ7A|     900346517|Reishi Mushroom E...|Health & Personal...|          1|           14|         20|   N|                Y|Does the potentia...|Although I did no...|2015-08-31 00:00:00|\n",
            "+-----------+-----------+--------------+----------+--------------+--------------------+--------------------+-----------+-------------+-----------+----+-----------------+--------------------+--------------------+-------------------+\n",
            "only showing top 20 rows\n",
            "\n"
          ]
        }
      ]
    },
    {
      "cell_type": "code",
      "source": [
        "# Filter the new DataFrame or table created in Step 1 and create a new DataFrame or table to retrieve all the \n",
        "# rows where the number of helpful_votes divided by total_votes is equal to or greater than 50%.\n",
        "\n",
        "helpful50_df = totalvotes_df.filter(\"helpful_votes / total_votes >= 0.5\")\n",
        "helpful50_df.show()"
      ],
      "metadata": {
        "colab": {
          "base_uri": "https://localhost:8080/"
        },
        "id": "YmoLE5t0kfp6",
        "outputId": "0e2e014b-663b-4012-cb21-aa7c2f84c102"
      },
      "execution_count": 25,
      "outputs": [
        {
          "output_type": "stream",
          "name": "stdout",
          "text": [
            "+-----------+-----------+--------------+----------+--------------+--------------------+--------------------+-----------+-------------+-----------+----+-----------------+--------------------+--------------------+-------------------+\n",
            "|marketplace|customer_id|     review_id|product_id|product_parent|       product_title|    product_category|star_rating|helpful_votes|total_votes|vine|verified_purchase|     review_headline|         review_body|        review_date|\n",
            "+-----------+-----------+--------------+----------+--------------+--------------------+--------------------+-----------+-------------+-----------+----+-----------------+--------------------+--------------------+-------------------+\n",
            "|         US|    1717317|R2984F9VD9WDJB|B0013OVVK0|     895291357|Jarrow Formulas N...|Health & Personal...|          1|           37|         46|   N|                Y|... month 2000 mg...|took it upon my d...|2015-08-31 00:00:00|\n",
            "|         US|   37405868|R218TGWCIAZYNY|B0065ZTKWS|     961894951|New Mama Bottom S...|Health & Personal...|          5|          191|        198|   N|                Y|Lives up to the hype|I'm not one to be...|2015-08-31 00:00:00|\n",
            "|         US|   35507683| RGC2TLSBHLPZA|B00196WN54|     850285101|Hyland's Cell Sal...|Health & Personal...|          5|           49|         50|   N|                Y|If I could give t...|If I could give t...|2015-08-31 00:00:00|\n",
            "|         US|   49800932|R2YYVOW2RYGRM8|B00BGO0QEO|     305113156|Fitbit Flex Wirel...|Health & Personal...|          5|           27|         28|   N|                Y|     Great Motivater|Loving it so far....|2015-08-31 00:00:00|\n",
            "|         US|   50079376|R2X4WF89XICSB2|B001FWY1JI|      33329985|Drive Medical Due...|Health & Personal...|          1|           21|         21|   N|                Y|   Dangerous product|Consumer beware, ...|2015-08-31 00:00:00|\n",
            "|         US|   14217432|R1M1KJ4SQE4INF|B013HB7FA6|     476583372|Nano Ionic Silver...|Health & Personal...|          5|           20|         21|   N|                N|Awesome Value for...|My body is consta...|2015-08-31 00:00:00|\n",
            "|         US|    2644767| RK8MUEWEUGV6V|B0017OFR5Q|     891915007|Swanson Premium B...|Health & Personal...|          4|          105|        113|   N|                N|               Good |Its good consider...|2015-08-31 00:00:00|\n",
            "|         US|   37243032|R3JF2SBRHZITRZ|B00U0A06A4|     847155233|InteVision Extra-...|Health & Personal...|          5|           24|         26|   N|                N|Both are great! A...|I bought my husba...|2015-08-31 00:00:00|\n",
            "|         US|   13080287| RLJN73T8WUYIR|B00YM8JRZU|     140079981|Optimized Liposom...|Health & Personal...|          5|          124|        128|   N|                Y|So impressed I've...|I was skeptical w...|2015-08-31 00:00:00|\n",
            "|         US|   37023547| RYA9ESIATW4EC|B00FB59Z64|     196842829|Swaddlers Sensiti...|Health & Personal...|          1|           23|         27|   N|                N|New Version of th...|We have been usin...|2015-08-31 00:00:00|\n",
            "|         US|   51703958|R15RF9IWXWX3IH|B00R5WAD26|     374923086|Superior Labs – E...|Health & Personal...|          5|           25|         31|   N|                N|I have been takin...|I have been takin...|2015-08-31 00:00:00|\n",
            "|         US|   13573206|R1GNMWLUMCOC6V|B00WDKKJU6|     943596926|Anti Teeth Grindi...|Health & Personal...|          5|           21|         23|   N|                N|I've been super s...|I've been super s...|2015-08-31 00:00:00|\n",
            "|         US|   39488966|R2SLKTWAJ7BR9K|B00F4Z6I66|     748300787|Organic Bitter Ap...|Health & Personal...|          5|           33|         36|   N|                Y|I like the taste ...|I like the taste ...|2015-08-31 00:00:00|\n",
            "|         US|   52507419|R1NKKJ720BC2VM|B000Z8ZKW0|     747897692|Now Foods, MSM 10...|Health & Personal...|          5|           25|         28|   N|                Y|Great for making ...|First of all, I a...|2015-08-31 00:00:00|\n",
            "|         US|   11895042|R3ATNR4AESV090|B00185TDW2|     750089279|Nature's Answer A...|Health & Personal...|          4|           38|         40|   N|                Y|       Amazing stuff|I ordered this fo...|2015-08-31 00:00:00|\n",
            "|         US|   36082980|R36XRSNV1M0ADW|B00TG2TRL6|     791688919|CCL Advanced Glut...|Health & Personal...|          5|           82|         95|   N|                Y|           It works!|I did my due dili...|2015-08-31 00:00:00|\n",
            "|         US|    2659185|R203G800OB64XF|B005JAT3TU|     895738024|Garden of Life Vi...|Health & Personal...|          3|           57|         72|   N|                N|    pretty Expensive|These did, howeve...|2015-08-31 00:00:00|\n",
            "|         US|   28780727|R31LBT37BJZE6B|B00QTCQZ7A|     900346517|Reishi Mushroom E...|Health & Personal...|          1|           14|         20|   N|                Y|Does the potentia...|Although I did no...|2015-08-31 00:00:00|\n",
            "|         US|   14697125|R119CG8XK73M2B|B00JREK09G|     838045959|Bariatric Once-A-...|Health & Personal...|          5|           77|         77|   N|                Y|really great vita...|as a vsg patient ...|2015-08-31 00:00:00|\n",
            "|         US|   26173115| RCOVDTGR8NH87|B00XQ6FX34|     576153069|BRI Nutrition Yoh...|Health & Personal...|          5|           59|         67|   N|                N|Excellent supplem...|It was recommende...|2015-08-31 00:00:00|\n",
            "+-----------+-----------+--------------+----------+--------------+--------------------+--------------------+-----------+-------------+-----------+----+-----------------+--------------------+--------------------+-------------------+\n",
            "only showing top 20 rows\n",
            "\n"
          ]
        }
      ]
    },
    {
      "cell_type": "code",
      "source": [
        "# Filter the DataFrame or table created in Step 2, and create a new DataFrame or table that retrieves all the \n",
        "# rows where a review was written as part of the Vine program (paid), vine == 'Y'.\n",
        "\n",
        "paid_df = helpful50_df.filter(helpful50_df[\"vine\"] == 'Y')\n",
        "paid_df.show()"
      ],
      "metadata": {
        "colab": {
          "base_uri": "https://localhost:8080/"
        },
        "id": "HuHUO8AGkfoa",
        "outputId": "1d40a768-3b28-45e4-be6e-8249a0fe73df"
      },
      "execution_count": 28,
      "outputs": [
        {
          "output_type": "stream",
          "name": "stdout",
          "text": [
            "+-----------+-----------+--------------+----------+--------------+--------------------+--------------------+-----------+-------------+-----------+----+-----------------+--------------------+--------------------+-------------------+\n",
            "|marketplace|customer_id|     review_id|product_id|product_parent|       product_title|    product_category|star_rating|helpful_votes|total_votes|vine|verified_purchase|     review_headline|         review_body|        review_date|\n",
            "+-----------+-----------+--------------+----------+--------------+--------------------+--------------------+-----------+-------------+-----------+----+-----------------+--------------------+--------------------+-------------------+\n",
            "|         US|   34746219| RG70K1HMY4LXX|B010H76PTU|     581545062|Omron 7 Series Wi...|Health & Personal...|          4|           37|         44|   Y|                N|Only tracks 1 per...|This product come...|2015-08-27 00:00:00|\n",
            "|         US|   51401810|R1DHGTNXDXJ0GB|B00VAPRSP4|     373707856|Cellucor, SuperHD...|Health & Personal...|          5|           78|         93|   Y|                N|Feel the burn, a ...|All summer long, ...|2015-08-14 00:00:00|\n",
            "|         US|   48359297|R3B5S3OSA8N6AO|B00TP29C0I|     999081216|Finish Powerball ...|Health & Personal...|          5|           38|         43|   Y|                N|Same great dishwa...|I've been using t...|2015-08-13 00:00:00|\n",
            "|         US|   43202634|R29X0YBS0SBIUP|B00VAPRSP4|     373707856|Cellucor, SuperHD...|Health & Personal...|          5|           56|         74|   Y|                N|A++ for Energy, S...|Let me just start...|2015-08-11 00:00:00|\n",
            "|         US|   32907802|R1ZEDMCU6NYC8Q|B00FHVYCBK|     600817797|Pure Guardian 14-...|Health & Personal...|          3|           26|         27|   Y|                N|Cant Turn off the...|I like the &#34;p...|2015-08-05 00:00:00|\n",
            "|         US|   52756261| RVBJM1LUI9X9K|B000NNEPHI|     176860773|Prevail Extra Abs...|Health & Personal...|          5|           27|         28|   Y|                N|Prevail Super Abs...|These are well fi...|2015-08-03 00:00:00|\n",
            "|         US|   53094487| R1KASHD9QSDMV|B00ZQUDMV8|     707523302|Benefiber Healthy...|Health & Personal...|          4|           18|         21|   Y|                N|Excellent fiber s...|I have long liked...|2015-07-27 00:00:00|\n",
            "|         US|   51367435|R1M3LATUI38MK0|B00OKD7RSG|     959144205|PureGuardian 12.5...|Health & Personal...|          5|           46|         50|   Y|                N|Very effective at...|Update 9/2016: St...|2015-07-23 00:00:00|\n",
            "|         US|   50391548|R20JZQ3AQVYNAU|B00U464HYK|      37907984|Cellucor, C4 Orig...|Health & Personal...|          4|          103|        113|   Y|                N|Still one of my t...|I've been using C...|2015-07-22 00:00:00|\n",
            "|         US|   34404124|R1EHXYTMBO4D28|B00UNT6BR4|     364699425|Clorox Glass Wipe...|Health & Personal...|          1|           56|         61|   Y|                N|Great idea. Terri...|I had been trying...|2015-07-20 00:00:00|\n",
            "|         US|   52982196|R3FIEE8HAF008L|B00FK3395U|     954662791|PureGuardian 12.5...|Health & Personal...|          1|           23|         26|   Y|                N|Totally unreliabl...|[[VIDEOID:851a92a...|2015-07-19 00:00:00|\n",
            "|         US|   18642523| RZJ5628PIAE8M|B00YBP7CTW|     233065194|Swiffer Sweep and...|Health & Personal...|          4|           23|         23|   Y|                N|Great For Quick C...|I have a newer ho...|2015-07-19 00:00:00|\n",
            "|         US|   47030935|R2YTV8JFB132UU|B00P38Q9TU|     219734297|NeilMed Naspira N...|Health & Personal...|          5|           29|         35|   Y|                N|Pleasantly surpri...|Until now we've a...|2015-07-13 00:00:00|\n",
            "|         US|   38140736| R9B39IY63XE6H|B00ZQUDMV8|     707523302|Benefiber Healthy...|Health & Personal...|          1|           88|         97|   Y|                N|Slick Marketing f...|It’s a shame Bene...|2015-07-13 00:00:00|\n",
            "|         US|   13926134|R3IYA2K7643J5F|B00G7VNO86|     911144792|GermGuardian AC41...|Health & Personal...|          3|           28|         35|   Y|                N|Is The UV Light W...|My first air puri...|2015-07-12 00:00:00|\n",
            "|         US|   40483276|R25HQLXMBJABQL|B00OLBR0LG|     812715058|GermGuardian GG11...|Health & Personal...|          5|           93|         97|   Y|                N|Cleans Just as Ef...|I wanted to use t...|2015-07-07 00:00:00|\n",
            "|         US|   46671309|R1NCMEN9DCHB2U|B00N6FT6TM|     832385702|Swiffer Sweeper C...|Health & Personal...|          3|           92|        100|   Y|                N|Mop Length adjust...|I do have and buy...|2015-07-01 00:00:00|\n",
            "|         US|   52764960| RFN5GI4LWX31V|B00TB7422U|     752858938|Dreft Stage 2: Ac...|Health & Personal...|          2|           43|         49|   Y|                N|Poor performance ...|We tested this de...|2015-06-24 00:00:00|\n",
            "|         US|   13171749|R1DLUEYOWRMJ2K|B00VFYYAC4|     183623722|SmartyPants Vitam...|Health & Personal...|          5|          130|        142|   Y|                N|Highly recommend!...|Methylfolate. Met...|2015-06-15 00:00:00|\n",
            "|         US|   51881294| RXDWRD20KTQO1|B00U5LY5L4|     967329326|RAYOVAC AA FUSION...|Health & Personal...|          4|           24|         24|   Y|                N|My benchmark test...|Fusion advanced a...|2015-06-12 00:00:00|\n",
            "+-----------+-----------+--------------+----------+--------------+--------------------+--------------------+-----------+-------------+-----------+----+-----------------+--------------------+--------------------+-------------------+\n",
            "only showing top 20 rows\n",
            "\n"
          ]
        }
      ]
    },
    {
      "cell_type": "code",
      "source": [
        "# Filter the DataFrame or table created in Step 2, and create a new DataFrame or table and retrieve all the \n",
        "# rows where the review was not part of the Vine program (unpaid), vine == 'N'.\n",
        "\n",
        "unpaid_df = helpful50_df.filter(helpful50_df[\"vine\"] == 'N')\n",
        "unpaid_df.show()"
      ],
      "metadata": {
        "colab": {
          "base_uri": "https://localhost:8080/"
        },
        "id": "btWCIbE_o73j",
        "outputId": "99c72c52-7d82-40d0-9313-c00d9de2fb9b"
      },
      "execution_count": 30,
      "outputs": [
        {
          "output_type": "stream",
          "name": "stdout",
          "text": [
            "+-----------+-----------+--------------+----------+--------------+--------------------+--------------------+-----------+-------------+-----------+----+-----------------+--------------------+--------------------+-------------------+\n",
            "|marketplace|customer_id|     review_id|product_id|product_parent|       product_title|    product_category|star_rating|helpful_votes|total_votes|vine|verified_purchase|     review_headline|         review_body|        review_date|\n",
            "+-----------+-----------+--------------+----------+--------------+--------------------+--------------------+-----------+-------------+-----------+----+-----------------+--------------------+--------------------+-------------------+\n",
            "|         US|    1717317|R2984F9VD9WDJB|B0013OVVK0|     895291357|Jarrow Formulas N...|Health & Personal...|          1|           37|         46|   N|                Y|... month 2000 mg...|took it upon my d...|2015-08-31 00:00:00|\n",
            "|         US|   37405868|R218TGWCIAZYNY|B0065ZTKWS|     961894951|New Mama Bottom S...|Health & Personal...|          5|          191|        198|   N|                Y|Lives up to the hype|I'm not one to be...|2015-08-31 00:00:00|\n",
            "|         US|   35507683| RGC2TLSBHLPZA|B00196WN54|     850285101|Hyland's Cell Sal...|Health & Personal...|          5|           49|         50|   N|                Y|If I could give t...|If I could give t...|2015-08-31 00:00:00|\n",
            "|         US|   49800932|R2YYVOW2RYGRM8|B00BGO0QEO|     305113156|Fitbit Flex Wirel...|Health & Personal...|          5|           27|         28|   N|                Y|     Great Motivater|Loving it so far....|2015-08-31 00:00:00|\n",
            "|         US|   50079376|R2X4WF89XICSB2|B001FWY1JI|      33329985|Drive Medical Due...|Health & Personal...|          1|           21|         21|   N|                Y|   Dangerous product|Consumer beware, ...|2015-08-31 00:00:00|\n",
            "|         US|   14217432|R1M1KJ4SQE4INF|B013HB7FA6|     476583372|Nano Ionic Silver...|Health & Personal...|          5|           20|         21|   N|                N|Awesome Value for...|My body is consta...|2015-08-31 00:00:00|\n",
            "|         US|    2644767| RK8MUEWEUGV6V|B0017OFR5Q|     891915007|Swanson Premium B...|Health & Personal...|          4|          105|        113|   N|                N|               Good |Its good consider...|2015-08-31 00:00:00|\n",
            "|         US|   37243032|R3JF2SBRHZITRZ|B00U0A06A4|     847155233|InteVision Extra-...|Health & Personal...|          5|           24|         26|   N|                N|Both are great! A...|I bought my husba...|2015-08-31 00:00:00|\n",
            "|         US|   13080287| RLJN73T8WUYIR|B00YM8JRZU|     140079981|Optimized Liposom...|Health & Personal...|          5|          124|        128|   N|                Y|So impressed I've...|I was skeptical w...|2015-08-31 00:00:00|\n",
            "|         US|   37023547| RYA9ESIATW4EC|B00FB59Z64|     196842829|Swaddlers Sensiti...|Health & Personal...|          1|           23|         27|   N|                N|New Version of th...|We have been usin...|2015-08-31 00:00:00|\n",
            "|         US|   51703958|R15RF9IWXWX3IH|B00R5WAD26|     374923086|Superior Labs – E...|Health & Personal...|          5|           25|         31|   N|                N|I have been takin...|I have been takin...|2015-08-31 00:00:00|\n",
            "|         US|   13573206|R1GNMWLUMCOC6V|B00WDKKJU6|     943596926|Anti Teeth Grindi...|Health & Personal...|          5|           21|         23|   N|                N|I've been super s...|I've been super s...|2015-08-31 00:00:00|\n",
            "|         US|   39488966|R2SLKTWAJ7BR9K|B00F4Z6I66|     748300787|Organic Bitter Ap...|Health & Personal...|          5|           33|         36|   N|                Y|I like the taste ...|I like the taste ...|2015-08-31 00:00:00|\n",
            "|         US|   52507419|R1NKKJ720BC2VM|B000Z8ZKW0|     747897692|Now Foods, MSM 10...|Health & Personal...|          5|           25|         28|   N|                Y|Great for making ...|First of all, I a...|2015-08-31 00:00:00|\n",
            "|         US|   11895042|R3ATNR4AESV090|B00185TDW2|     750089279|Nature's Answer A...|Health & Personal...|          4|           38|         40|   N|                Y|       Amazing stuff|I ordered this fo...|2015-08-31 00:00:00|\n",
            "|         US|   36082980|R36XRSNV1M0ADW|B00TG2TRL6|     791688919|CCL Advanced Glut...|Health & Personal...|          5|           82|         95|   N|                Y|           It works!|I did my due dili...|2015-08-31 00:00:00|\n",
            "|         US|    2659185|R203G800OB64XF|B005JAT3TU|     895738024|Garden of Life Vi...|Health & Personal...|          3|           57|         72|   N|                N|    pretty Expensive|These did, howeve...|2015-08-31 00:00:00|\n",
            "|         US|   28780727|R31LBT37BJZE6B|B00QTCQZ7A|     900346517|Reishi Mushroom E...|Health & Personal...|          1|           14|         20|   N|                Y|Does the potentia...|Although I did no...|2015-08-31 00:00:00|\n",
            "|         US|   14697125|R119CG8XK73M2B|B00JREK09G|     838045959|Bariatric Once-A-...|Health & Personal...|          5|           77|         77|   N|                Y|really great vita...|as a vsg patient ...|2015-08-31 00:00:00|\n",
            "|         US|   26173115| RCOVDTGR8NH87|B00XQ6FX34|     576153069|BRI Nutrition Yoh...|Health & Personal...|          5|           59|         67|   N|                N|Excellent supplem...|It was recommende...|2015-08-31 00:00:00|\n",
            "+-----------+-----------+--------------+----------+--------------+--------------------+--------------------+-----------+-------------+-----------+----+-----------------+--------------------+--------------------+-------------------+\n",
            "only showing top 20 rows\n",
            "\n"
          ]
        }
      ]
    },
    {
      "cell_type": "code",
      "source": [
        "# Determine the total number of reviews, the number of 5-star reviews, and the percentage of 5-star reviews\n",
        "# for the two types of review (paid vs unpaid)."
      ],
      "metadata": {
        "id": "Yg8U6Qhbo705"
      },
      "execution_count": 10,
      "outputs": []
    },
    {
      "cell_type": "code",
      "source": [
        "# Total number of paid reviews \n",
        "total_reviews_paid_df = paid_df.count()\n",
        "print(\"Total Number of Paid Reviews: %f\" % total_reviews_paid_df)"
      ],
      "metadata": {
        "colab": {
          "base_uri": "https://localhost:8080/"
        },
        "id": "-mhQqqvio7yA",
        "outputId": "f9d1226d-264f-434a-812b-1dad6367d1cb"
      },
      "execution_count": 36,
      "outputs": [
        {
          "output_type": "stream",
          "name": "stdout",
          "text": [
            "Total Number of Paid Reviews: 497.000000\n"
          ]
        }
      ]
    },
    {
      "cell_type": "code",
      "source": [
        "# Total number of unpaid reviews \n",
        "total_reviews_unpaid_df = unpaid_df.count()\n",
        "print(\"Total Number of Unpaid Reviews: %f\" % total_reviews_unpaid_df)"
      ],
      "metadata": {
        "colab": {
          "base_uri": "https://localhost:8080/"
        },
        "id": "lYa6kLtH646_",
        "outputId": "ae2ded03-8367-4567-8891-285b266d99f3"
      },
      "execution_count": 40,
      "outputs": [
        {
          "output_type": "stream",
          "name": "stdout",
          "text": [
            "Total Number of Unpaid Reviews: 120863.000000\n"
          ]
        }
      ]
    },
    {
      "cell_type": "code",
      "source": [
        "# Total number of paid 5-star reviews\n",
        "paid_five_star_reviews = paid_df.filter(paid_df.star_rating == 5).count()\n",
        "print(\"Total Number of Paid 5-Star Reviews: %f\" % paid_five_star_reviews)"
      ],
      "metadata": {
        "colab": {
          "base_uri": "https://localhost:8080/"
        },
        "id": "sIIrOidPo7sy",
        "outputId": "96e7c33a-c818-4cc3-b1ec-1cb0f2ee1977"
      },
      "execution_count": 41,
      "outputs": [
        {
          "output_type": "stream",
          "name": "stdout",
          "text": [
            "Total Number of Paid 5-Star Reviews: 220.000000\n"
          ]
        }
      ]
    },
    {
      "cell_type": "code",
      "source": [
        "# Total number of unpaid 5-star reviews\n",
        "unpaid_five_star_reviews = unpaid_df.filter(unpaid_df.star_rating == 5).count()\n",
        "print(\"Total Number of Unpaid 5-Star Reviews: %f\"  % unpaid_five_star_reviews)"
      ],
      "metadata": {
        "colab": {
          "base_uri": "https://localhost:8080/"
        },
        "id": "2WAH7gzs9NNg",
        "outputId": "0b0aca03-5bfe-4425-d2a3-e720676a06b7"
      },
      "execution_count": 44,
      "outputs": [
        {
          "output_type": "stream",
          "name": "stdout",
          "text": [
            "Total Number of Unpaid 5-Star Reviews: 74470.000000\n"
          ]
        }
      ]
    },
    {
      "cell_type": "code",
      "source": [
        "# Percentage of Paid 5-star reviews\n",
        "paid_percentage_five_star_reviews = paid_five_star_reviews / total_reviews_paid_df * 100\n",
        "print(\"Total Percentage of Paid 5-Star Reviews: %f\" % paid_percentage_five_star_reviews)"
      ],
      "metadata": {
        "colab": {
          "base_uri": "https://localhost:8080/"
        },
        "id": "NhWvbI2Mo7jo",
        "outputId": "5d86b744-6866-4648-9773-f5bd4554b3b0"
      },
      "execution_count": 45,
      "outputs": [
        {
          "output_type": "stream",
          "name": "stdout",
          "text": [
            "Total Percentage of Paid 5-Star Reviews: 44.265594\n"
          ]
        }
      ]
    },
    {
      "cell_type": "code",
      "source": [
        "# Percentage of Unpaid 5-star reviews\n",
        "unpaid_percentage_five_star_reviews = unpaid_five_star_reviews / total_reviews_unpaid_df * 100\n",
        "print(\"Total Percentage of Unpaid 5-Star Reviews: %f\" % unpaid_percentage_five_star_reviews)"
      ],
      "metadata": {
        "id": "HaId8oWIkfku",
        "colab": {
          "base_uri": "https://localhost:8080/"
        },
        "outputId": "e4b04176-4cf4-4aa8-b86a-a0b60b7ea87d"
      },
      "execution_count": 46,
      "outputs": [
        {
          "output_type": "stream",
          "name": "stdout",
          "text": [
            "Total Percentage of Unpaid 5-Star Reviews: 61.615217\n"
          ]
        }
      ]
    },
    {
      "cell_type": "code",
      "source": [],
      "metadata": {
        "id": "iCQyxoHykfg3"
      },
      "execution_count": null,
      "outputs": []
    },
    {
      "cell_type": "code",
      "source": [],
      "metadata": {
        "id": "cEubPV7skfYy"
      },
      "execution_count": null,
      "outputs": []
    }
  ]
}